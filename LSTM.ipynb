{
  "nbformat": 4,
  "nbformat_minor": 0,
  "metadata": {
    "colab": {
      "provenance": [],
      "collapsed_sections": [
        "Uh3ZZxkYKbV2",
        "KTfAd0HcRGlz",
        "a8WZwdDM0Gbh"
      ],
      "gpuType": "T4",
      "machine_shape": "hm"
    },
    "kernelspec": {
      "name": "python3",
      "display_name": "Python 3"
    },
    "language_info": {
      "name": "python"
    },
    "gpuClass": "standard",
    "accelerator": "GPU"
  },
  "cells": [
    {
      "cell_type": "markdown",
      "source": [
        "# Preparing"
      ],
      "metadata": {
        "id": "Uh3ZZxkYKbV2"
      }
    },
    {
      "cell_type": "code",
      "source": [
        "import pandas as pd\n",
        "import numpy as np\n",
        "import matplotlib.pyplot as plt\n",
        "\n",
        "from sklearn.model_selection import train_test_split\n",
        "import tensorflow as tf\n",
        "from tensorflow import keras\n",
        "from keras import Input\n",
        "from keras.models import Model\n",
        "from keras.layers import Dense, LSTM, Conv1D, Conv2D,\\\n",
        "              Dropout, BatchNormalization, Flatten, Reshape, Concatenate, Bidirectional"
      ],
      "metadata": {
        "id": "e2BcVUquKX2I"
      },
      "execution_count": null,
      "outputs": []
    },
    {
      "cell_type": "code",
      "source": [
        "!gdown 12KgRkqQ1zb_xqP22CbRZozIqpbIRMU2J\n",
        "!gdown 1ZPnD9XJAQdAmtZ4PJWochdHaMXE24vAa\n",
        "!gdown 1LSOMo1WIFaImACF5ufThX5zc7lG-kXVy"
      ],
      "metadata": {
        "colab": {
          "base_uri": "https://localhost:8080/"
        },
        "id": "8DhoZpNdK8XF",
        "outputId": "0fe778e8-d854-468e-f527-fec8984ed2db"
      },
      "execution_count": null,
      "outputs": [
        {
          "output_type": "stream",
          "name": "stdout",
          "text": [
            "Downloading...\n",
            "From: https://drive.google.com/uc?id=12KgRkqQ1zb_xqP22CbRZozIqpbIRMU2J\n",
            "To: /content/light_train_source_labels.csv\n",
            "100% 126M/126M [00:03<00:00, 41.2MB/s]\n",
            "Downloading...\n",
            "From: https://drive.google.com/uc?id=1ZPnD9XJAQdAmtZ4PJWochdHaMXE24vAa\n",
            "To: /content/light_train_target_labels.csv\n",
            "100% 3.58M/3.58M [00:00<00:00, 153MB/s]\n",
            "Downloading...\n",
            "From: https://drive.google.com/uc?id=1LSOMo1WIFaImACF5ufThX5zc7lG-kXVy\n",
            "To: /content/light_test_source_labels.csv\n",
            "100% 31.6M/31.6M [00:00<00:00, 94.0MB/s]\n"
          ]
        }
      ]
    },
    {
      "cell_type": "code",
      "source": [
        "train_source = pd.read_csv(\"light_train_source_labels.csv\")\n",
        "train_target = pd.read_csv(\"light_train_target_labels.csv\")\n",
        "test_source = pd.read_csv(\"light_test_source_labels.csv\")"
      ],
      "metadata": {
        "id": "1MU4Z5EVLU4X"
      },
      "execution_count": null,
      "outputs": []
    },
    {
      "cell_type": "markdown",
      "source": [
        "## Define Functions"
      ],
      "metadata": {
        "id": "45RTksF1RUGg"
      }
    },
    {
      "cell_type": "code",
      "source": [
        "def Draw_Loss_Acc(history):\n",
        "  fig, ax = plt.subplots(1, 2, figsize=(10, 5))\n",
        "\n",
        "  loss = history.history['loss']\n",
        "  val_loss = history.history['val_loss']\n",
        "  epochs = range(1, len(loss) + 1)\n",
        "  ax[0].plot(epochs, loss, 'b', label='Training loss')\n",
        "  ax[0].plot(epochs, val_loss, 'r', label='Validation loss')\n",
        "  ax[0].set_title('Training and validation loss')\n",
        "  ax[0].set_xlabel('Epochs')\n",
        "  ax[0].set_ylabel('Loss')\n",
        "  ax[0].legend()\n",
        "\n",
        "  auc = history.history['auc']\n",
        "  val_auc = history.history['val_auc']\n",
        "  ax[1].plot(epochs, auc, 'b', label='Training acc')\n",
        "  ax[1].plot(epochs, val_auc, 'r', label='Validation acc')\n",
        "  ax[1].set_title('Training and validation accuracy')\n",
        "  ax[1].set_xlabel('Epochs')\n",
        "  ax[1].set_ylabel('Loss')\n",
        "  ax[1].legend()"
      ],
      "metadata": {
        "id": "XtNhAZFBP1uQ"
      },
      "execution_count": null,
      "outputs": []
    },
    {
      "cell_type": "code",
      "source": [
        "def Test_Functional_Model(epochs):\n",
        "  model = Construct_Functional_Model()\n",
        "\n",
        "  history = model.fit(x_train, y_train, batch_size=256, epochs=epochs, validation_data=(x_valid, y_valid))\n",
        "\n",
        "  print(\"\\nLocal Test:\")\n",
        "  model.evaluate(x_test, y_test)\n",
        "\n",
        "  print(\"\\n\\nLoss/AUC Graph:\")\n",
        "  Draw_Loss_Acc(history)\n",
        "\n",
        "  return model, history"
      ],
      "metadata": {
        "id": "S09KzeGJQPqn"
      },
      "execution_count": null,
      "outputs": []
    },
    {
      "cell_type": "code",
      "source": [
        "def Refit_Model(epochs):\n",
        "  model = Construct_Functional_Model()\n",
        "  history = model.fit(X, y, batch_size=256, epochs=epochs)\n",
        "\n",
        "  return model, history"
      ],
      "metadata": {
        "id": "cYBxsEmZSrgm"
      },
      "execution_count": null,
      "outputs": []
    },
    {
      "cell_type": "markdown",
      "source": [
        "## Load Data"
      ],
      "metadata": {
        "id": "KTfAd0HcRGlz"
      }
    },
    {
      "cell_type": "code",
      "source": [
        "X = train_source.iloc[:, 1:].to_numpy()\n",
        "y = train_target.iloc[:, 1:].to_numpy()\n",
        "\n",
        "# train : valid : test = 0.8 : 0.1 : 0.1\n",
        "x_train, x_test, y_train, y_test = train_test_split(X, y, test_size=0.2, random_state=0)\n",
        "x_valid, x_test, y_valid, y_test = train_test_split(x_test, y_test, test_size=0.5, random_state=0)"
      ],
      "metadata": {
        "id": "-YOFEZocMFro"
      },
      "execution_count": null,
      "outputs": []
    },
    {
      "cell_type": "markdown",
      "source": [
        "# Training"
      ],
      "metadata": {
        "id": "eh6WbnRZNzPB"
      }
    },
    {
      "cell_type": "markdown",
      "source": [
        "## Model Structure"
      ],
      "metadata": {
        "id": "ynO1oXVlSHc6"
      }
    },
    {
      "cell_type": "markdown",
      "source": [
        "### LSTM"
      ],
      "metadata": {
        "id": "mnmvif6G2EAN"
      }
    },
    {
      "cell_type": "code",
      "source": [
        "def Construct_Functional_Model():\n",
        "  tf.keras.backend.clear_session()\n",
        "\n",
        "\n",
        "  # Model Structure\n",
        "  input = Input(shape=(1036))\n",
        "  reshaped = Reshape((37, 28))(input)\n",
        "\n",
        "  lstm_1 = LSTM(48, dropout=0.375, recurrent_dropout=0.375, return_sequences=True)(reshaped)\n",
        "  lstm_2 = LSTM(48, dropout=0.375, recurrent_dropout=0.375, return_sequences=True)(lstm_1)\n",
        "  predictions = LSTM(28, activation='sigmoid')(lstm_2)\n",
        "\n",
        "  model = Model(input, predictions)\n",
        "  # Model Structure\n",
        "\n",
        "\n",
        "  model.compile(optimizer='adam', loss = 'binary_crossentropy', metrics=[keras.metrics.AUC()])\n",
        "  print(model.summary())\n",
        "  return model"
      ],
      "metadata": {
        "id": "NtPRq83U2FRy"
      },
      "execution_count": null,
      "outputs": []
    },
    {
      "cell_type": "markdown",
      "source": [
        "### LSTM + NN"
      ],
      "metadata": {
        "id": "D2hJ3kVdYrlW"
      }
    },
    {
      "cell_type": "code",
      "source": [
        "def Construct_Functional_Model():\n",
        "  tf.keras.backend.clear_session()\n",
        "\n",
        "\n",
        "  # Model Structure\n",
        "  input = Input(shape=(1036))\n",
        "  reshaped = Reshape((37, 28))(input)\n",
        "\n",
        "  lstm = LSTM(48, dropout=0.375)(reshaped)\n",
        "  nn = Dense(128, activation='sigmoid')(lstm)\n",
        "  predictions = Dense(28, activation='sigmoid')(nn)\n",
        "\n",
        "  model = Model(input, predictions)\n",
        "  # Model Structure\n",
        "\n",
        "\n",
        "  model.compile(optimizer='adam', loss = 'binary_crossentropy', metrics=[keras.metrics.AUC()])\n",
        "  print(model.summary())\n",
        "  return model"
      ],
      "metadata": {
        "id": "OIWzTSsfYvDF"
      },
      "execution_count": null,
      "outputs": []
    },
    {
      "cell_type": "markdown",
      "source": [
        "#### Model Y"
      ],
      "metadata": {
        "id": "APgijKlSqb8F"
      }
    },
    {
      "cell_type": "code",
      "source": [
        "def Construct_Functional_Model():\n",
        "  tf.keras.backend.clear_session()\n",
        "\n",
        "\n",
        "  # Model Structure\n",
        "  input = Input(shape=(1036))\n",
        "  reshaped = Reshape((37, 28))(input)\n",
        "\n",
        "  lstm_1 = LSTM(24, dropout=0.375)(reshaped)\n",
        "  lstm_2 = LSTM(24, dropout=0.375)(reshaped)\n",
        "\n",
        "  merged = Concatenate()([lstm_1, lstm_2])\n",
        "  nn = Dense(96, activation='relu')(merged)\n",
        "\n",
        "  predictions = Dense(28, activation='sigmoid')(nn)\n",
        "\n",
        "  model = Model(input, predictions)\n",
        "  # Model Structure\n",
        "\n",
        "\n",
        "  model.compile(optimizer='adam', loss = 'binary_crossentropy', metrics=[keras.metrics.AUC(1000)])\n",
        "  print(model.summary())\n",
        "  return model"
      ],
      "metadata": {
        "id": "EJFO3PkYqj3y"
      },
      "execution_count": null,
      "outputs": []
    },
    {
      "cell_type": "markdown",
      "source": [
        "### 1D-CNN"
      ],
      "metadata": {
        "id": "72s1iOs1bZ5q"
      }
    },
    {
      "cell_type": "code",
      "source": [
        "def Construct_Functional_Model():\n",
        "  tf.keras.backend.clear_session()\n",
        "\n",
        "\n",
        "  # Model Structure\n",
        "  input = Input(shape=(1036))\n",
        "  reshaped = Reshape((259, 4))(input)\n",
        "\n",
        "  cnn_1 = Conv1D(filters=32, kernel_size=32, strides=2, activation='relu', padding=\"same\", data_format=\"channels_last\")(reshaped)\n",
        "  drop_1 = Dropout(0.5)(cnn_1)\n",
        "  cnn_2 = Conv1D(filters=16, kernel_size=32, strides=2, activation='sigmoid', padding=\"same\", data_format=\"channels_last\")(drop_1)\n",
        "  drop_2 = Dropout(0.5)(cnn_2)\n",
        "\n",
        "  flatten = Flatten()(drop_2)\n",
        "\n",
        "  predictions = Dense(28, activation='sigmoid')(flatten)\n",
        "\n",
        "  model = Model(input, predictions)\n",
        "  # Model Structure\n",
        "\n",
        "\n",
        "  model.compile(optimizer='adam', loss = 'binary_crossentropy', metrics=[keras.metrics.AUC()])\n",
        "  print(model.summary())\n",
        "  return model"
      ],
      "metadata": {
        "id": "4Cbdg0HXh-ok"
      },
      "execution_count": null,
      "outputs": []
    },
    {
      "cell_type": "markdown",
      "source": [
        "### 2D-CNN + LSTM"
      ],
      "metadata": {
        "id": "i-oFHtuLYvYI"
      }
    },
    {
      "cell_type": "code",
      "source": [
        "def Construct_Functional_Model():\n",
        "  tf.keras.backend.clear_session()\n",
        "\n",
        "\n",
        "  # Model Structure\n",
        "  input = Input(shape=(1036))\n",
        "  reshaped = Reshape((37, 7, 4))(input)\n",
        "\n",
        "  cnn_1 = Conv2D(filters=32, kernel_size=(16, 1), strides=(2, 1), activation='relu', padding=\"same\", data_format=\"channels_last\")(reshaped)\n",
        "  drop_1 = Dropout(0.5)(cnn_1)\n",
        "  cnn_2 = Conv2D(filters=16, kernel_size=(16, 1), strides=(2, 1), activation='relu', padding=\"same\", data_format=\"channels_last\")(drop_1)\n",
        "  drop_2 = Dropout(0.5)(cnn_2)\n",
        "  reshaped_1 = Reshape((10, 7*16))(drop_2)\n",
        "  lstm = LSTM(32, dropout=0.375, recurrent_dropout=0.375)(reshaped_1)\n",
        "\n",
        "  predictions = Dense(28, activation='sigmoid')(lstm)\n",
        "\n",
        "  model = Model(input, predictions)\n",
        "  # Model Structure\n",
        "\n",
        "\n",
        "  model.compile(optimizer='adam', loss = 'binary_crossentropy', metrics=[keras.metrics.AUC()])\n",
        "  print(model.summary())\n",
        "  return model"
      ],
      "metadata": {
        "id": "MxBwBo2fD46g"
      },
      "execution_count": null,
      "outputs": []
    },
    {
      "cell_type": "markdown",
      "source": [
        "### Ultra CNN (1D-CNN + 2D-CNN)"
      ],
      "metadata": {
        "id": "iT5ptYKBh6uU"
      }
    },
    {
      "cell_type": "code",
      "source": [
        "def Construct_Functional_Model():\n",
        "  tf.keras.backend.clear_session()\n",
        "\n",
        "\n",
        "  # Model Structure\n",
        "  input = Input(shape=(1036))\n",
        "\n",
        "  reshaped_1 = Reshape((259, 4))(input)\n",
        "  cnn_11 = Conv1D(filters=32, kernel_size=32, strides=2, activation='relu', padding=\"same\", data_format=\"channels_last\")(reshaped_1)\n",
        "  drop_11 = Dropout(0.5)(cnn_11)\n",
        "  cnn_12 = Conv1D(filters=16, kernel_size=16, strides=2, activation='sigmoid', padding=\"same\", data_format=\"channels_last\")(drop_11)\n",
        "  drop_12 = Dropout(0.5)(cnn_12)\n",
        "  flatten_1 = Flatten()(drop_12)\n",
        "\n",
        "  reshaped_2 = Reshape((37, 7, 4))(input)\n",
        "  cnn_21 = Conv2D(filters=32, kernel_size=(16, 1), strides=(2, 1), activation='relu', padding=\"same\", data_format=\"channels_last\")(reshaped_2)\n",
        "  drop_21 = Dropout(0.5)(cnn_21)\n",
        "  cnn_22 = Conv2D(filters=16, kernel_size=(16, 1), strides=(2, 1), activation='sigmoid', padding=\"same\", data_format=\"channels_last\")(drop_21)\n",
        "  drop_22 = Dropout(0.5)(cnn_22)\n",
        "  flatten_2 = Flatten()(drop_22)\n",
        "\n",
        "  merged = Concatenate()([flatten_1, flatten_2])\n",
        "  nn = Dense(128, activation='sigmoid')(merged)\n",
        "  drop = Dropout(0.5)(nn)\n",
        "  predictions = Dense(28, activation='sigmoid')(drop)\n",
        "\n",
        "  model = Model(input, predictions)\n",
        "  # Model Structure\n",
        "\n",
        "\n",
        "  model.compile(optimizer='adam', loss = 'binary_crossentropy', metrics=[keras.metrics.AUC()])\n",
        "  print(model.summary())\n",
        "  return model"
      ],
      "metadata": {
        "id": "q1VDtUZCH86I"
      },
      "execution_count": null,
      "outputs": []
    },
    {
      "cell_type": "code",
      "source": [
        "def CNN_Week(input, num_of_filters, num_of_weeks):\n",
        "  cnn = Conv1D(filters=num_of_filters, kernel_size=num_of_weeks*7, strides=7, activation='relu', padding='same', data_format='channels_last')(input)\n",
        "  return Dropout(0.5)(cnn)\n",
        "\n",
        "def CNN_1D(input):\n",
        "\n",
        "  cnn_2 = CNN_Week(Reshape((259, 4))(input), 16, 2)\n",
        "  cnn_3 = CNN_Week(Reshape((259, 4))(input), 16, 3)\n",
        "  cnn_4 = CNN_Week(Reshape((259, 4))(input), 16, 4)\n",
        "\n",
        "  lstm = LSTM(32, dropout=0.375, recurrent_dropout=0.375, return_sequences=True)(Reshape((37, 28))(input))\n",
        "  merged = Concatenate(axis=-1)([cnn_2, cnn_3, cnn_4, lstm])\n",
        "\n",
        "  predictions = LSTM(28, activation='sigmoid')(merged)\n",
        "\n",
        "  return predictions\n",
        "\n",
        "def CNN_2D(input):\n",
        "  reshaped = Reshape((37, 7, 4))(input)\n",
        "\n",
        "  cnn_1 = Conv2D(filters=32, kernel_size=(16, 1), strides=(2, 1), activation='relu', padding=\"same\", data_format=\"channels_last\")(reshaped)\n",
        "  drop_1 = Dropout(0.5)(cnn_1)\n",
        "  cnn_2 = Conv2D(filters=16, kernel_size=(16, 1), strides=(2, 1), activation='relu', padding=\"same\", data_format=\"channels_last\")(drop_1)\n",
        "  drop_2 = Dropout(0.5)(cnn_2)\n",
        "\n",
        "  reshaped_1 = Reshape((10, 7*16))(drop_2)\n",
        "  lstm = LSTM(32, dropout=0.375, recurrent_dropout=0.375, return_sequences=True)(reshaped_1)\n",
        "\n",
        "  predictions = LSTM(28, activation='sigmoid')(lstm)\n",
        "\n",
        "  return predictions\n",
        "\n",
        "\n",
        "def Construct_Functional_Model():\n",
        "  tf.keras.backend.clear_session()\n",
        "\n",
        "\n",
        "  # Model Structure\n",
        "  input = Input(shape=(1036))\n",
        "\n",
        "  cnn_1 = CNN_1D(input)\n",
        "  cnn_2 = CNN_2D(input)\n",
        "\n",
        "  merged = Concatenate()([cnn_1, cnn_2])\n",
        "  predictions = Dense(28, activation='sigmoid')(merged)\n",
        "\n",
        "  model = Model(input, predictions)\n",
        "  # Model Structure\n",
        "\n",
        "\n",
        "  model.compile(optimizer='adam', loss = 'binary_crossentropy', metrics=[keras.metrics.AUC()])\n",
        "  print(model.summary())\n",
        "  return model"
      ],
      "metadata": {
        "id": "iCG3jFlvgCko"
      },
      "execution_count": null,
      "outputs": []
    },
    {
      "cell_type": "code",
      "source": [
        "def Construct_Functional_Model():\n",
        "  tf.keras.backend.clear_session()\n",
        "\n",
        "\n",
        "  # Model Structure\n",
        "  input = Input(shape=(1036))\n",
        "\n",
        "  reshaped_1 = Reshape((259, 4))(input)\n",
        "  cnn_11 = Conv1D(filters=32, kernel_size=35, strides=7, activation='relu', padding=\"same\", data_format=\"channels_last\")(reshaped_1)\n",
        "  drop_11 = Dropout(0.5)(cnn_11)\n",
        "  cnn_12 = Conv1D(filters=16, kernel_size=35, strides=1, activation='sigmoid', padding=\"same\", data_format=\"channels_last\")(drop_11)\n",
        "  drop_12 = Dropout(0.5)(cnn_12)\n",
        "  flatten_1 = Flatten()(drop_12)\n",
        "\n",
        "  reshaped_2 = Reshape((37, 7, 4))(input)\n",
        "  cnn_21 = Conv2D(filters=32, kernel_size=(16, 1), strides=(2, 1), activation='relu', padding=\"same\", data_format=\"channels_last\")(reshaped_2)\n",
        "  drop_21 = Dropout(0.5)(cnn_21)\n",
        "  cnn_22 = Conv2D(filters=16, kernel_size=(16, 1), strides=(2, 1), activation='sigmoid', padding=\"same\", data_format=\"channels_last\")(drop_21)\n",
        "  drop_22 = Dropout(0.5)(cnn_22)\n",
        "  flatten_2 = Flatten()(drop_22)\n",
        "\n",
        "  merged = Concatenate()([flatten_1, flatten_2])\n",
        "  nn = Dense(128, activation='sigmoid')(merged)\n",
        "  drop = Dropout(0.5)(nn)\n",
        "  predictions = Dense(28, activation='sigmoid')(drop)\n",
        "\n",
        "  model = Model(input, predictions)\n",
        "  # Model Structure\n",
        "\n",
        "\n",
        "  model.compile(optimizer='adam', loss = 'binary_crossentropy', metrics=[keras.metrics.AUC()])\n",
        "  print(model.summary())\n",
        "  return model"
      ],
      "metadata": {
        "id": "k8URyHmeyv32"
      },
      "execution_count": null,
      "outputs": []
    },
    {
      "cell_type": "markdown",
      "source": [
        "## Training, Validating, and Testing"
      ],
      "metadata": {
        "id": "qpVA81E4SK6u"
      }
    },
    {
      "cell_type": "code",
      "source": [
        "epochs = 50\n",
        "model, history = Test_Functional_Model(epochs)"
      ],
      "metadata": {
        "colab": {
          "base_uri": "https://localhost:8080/",
          "height": 1000
        },
        "id": "cuPZsgzYQeE-",
        "outputId": "541cd553-cfcb-4046-bc8f-b939817c4b29"
      },
      "execution_count": null,
      "outputs": [
        {
          "output_type": "stream",
          "name": "stdout",
          "text": [
            "Model: \"model\"\n",
            "__________________________________________________________________________________________________\n",
            " Layer (type)                Output Shape                 Param #   Connected to                  \n",
            "==================================================================================================\n",
            " input_1 (InputLayer)        [(None, 1036)]               0         []                            \n",
            "                                                                                                  \n",
            " reshape (Reshape)           (None, 259, 4)               0         ['input_1[0][0]']             \n",
            "                                                                                                  \n",
            " reshape_1 (Reshape)         (None, 37, 7, 4)             0         ['input_1[0][0]']             \n",
            "                                                                                                  \n",
            " conv1d (Conv1D)             (None, 37, 32)               4512      ['reshape[0][0]']             \n",
            "                                                                                                  \n",
            " conv2d (Conv2D)             (None, 19, 7, 32)            2080      ['reshape_1[0][0]']           \n",
            "                                                                                                  \n",
            " dropout (Dropout)           (None, 37, 32)               0         ['conv1d[0][0]']              \n",
            "                                                                                                  \n",
            " dropout_2 (Dropout)         (None, 19, 7, 32)            0         ['conv2d[0][0]']              \n",
            "                                                                                                  \n",
            " conv1d_1 (Conv1D)           (None, 37, 16)               17936     ['dropout[0][0]']             \n",
            "                                                                                                  \n",
            " conv2d_1 (Conv2D)           (None, 10, 7, 16)            8208      ['dropout_2[0][0]']           \n",
            "                                                                                                  \n",
            " dropout_1 (Dropout)         (None, 37, 16)               0         ['conv1d_1[0][0]']            \n",
            "                                                                                                  \n",
            " dropout_3 (Dropout)         (None, 10, 7, 16)            0         ['conv2d_1[0][0]']            \n",
            "                                                                                                  \n",
            " flatten (Flatten)           (None, 592)                  0         ['dropout_1[0][0]']           \n",
            "                                                                                                  \n",
            " flatten_1 (Flatten)         (None, 1120)                 0         ['dropout_3[0][0]']           \n",
            "                                                                                                  \n",
            " concatenate (Concatenate)   (None, 1712)                 0         ['flatten[0][0]',             \n",
            "                                                                     'flatten_1[0][0]']           \n",
            "                                                                                                  \n",
            " dense (Dense)               (None, 128)                  219264    ['concatenate[0][0]']         \n",
            "                                                                                                  \n",
            " dropout_4 (Dropout)         (None, 128)                  0         ['dense[0][0]']               \n",
            "                                                                                                  \n",
            " dense_1 (Dense)             (None, 28)                   3612      ['dropout_4[0][0]']           \n",
            "                                                                                                  \n",
            "==================================================================================================\n",
            "Total params: 255612 (998.48 KB)\n",
            "Trainable params: 255612 (998.48 KB)\n",
            "Non-trainable params: 0 (0.00 Byte)\n",
            "__________________________________________________________________________________________________\n",
            "None\n",
            "Epoch 1/50\n",
            "96/96 [==============================] - 16s 16ms/step - loss: 0.4202 - auc: 0.6407 - val_loss: 0.3598 - val_auc: 0.7398\n",
            "Epoch 2/50\n",
            "96/96 [==============================] - 1s 7ms/step - loss: 0.3708 - auc: 0.7207 - val_loss: 0.3445 - val_auc: 0.7756\n",
            "Epoch 3/50\n",
            "96/96 [==============================] - 1s 7ms/step - loss: 0.3499 - auc: 0.7644 - val_loss: 0.3361 - val_auc: 0.7969\n",
            "Epoch 4/50\n",
            "96/96 [==============================] - 1s 7ms/step - loss: 0.3382 - auc: 0.7865 - val_loss: 0.3254 - val_auc: 0.8098\n",
            "Epoch 5/50\n",
            "96/96 [==============================] - 1s 7ms/step - loss: 0.3319 - auc: 0.7974 - val_loss: 0.3222 - val_auc: 0.8151\n",
            "Epoch 6/50\n",
            "96/96 [==============================] - 1s 7ms/step - loss: 0.3282 - auc: 0.8035 - val_loss: 0.3189 - val_auc: 0.8192\n",
            "Epoch 7/50\n",
            "96/96 [==============================] - 1s 7ms/step - loss: 0.3251 - auc: 0.8089 - val_loss: 0.3171 - val_auc: 0.8226\n",
            "Epoch 8/50\n",
            "96/96 [==============================] - 1s 7ms/step - loss: 0.3232 - auc: 0.8118 - val_loss: 0.3152 - val_auc: 0.8248\n",
            "Epoch 9/50\n",
            "96/96 [==============================] - 1s 7ms/step - loss: 0.3214 - auc: 0.8143 - val_loss: 0.3148 - val_auc: 0.8264\n",
            "Epoch 10/50\n",
            "96/96 [==============================] - 1s 7ms/step - loss: 0.3204 - auc: 0.8160 - val_loss: 0.3137 - val_auc: 0.8265\n",
            "Epoch 11/50\n",
            "96/96 [==============================] - 1s 7ms/step - loss: 0.3188 - auc: 0.8184 - val_loss: 0.3126 - val_auc: 0.8286\n",
            "Epoch 12/50\n",
            "96/96 [==============================] - 1s 7ms/step - loss: 0.3179 - auc: 0.8197 - val_loss: 0.3122 - val_auc: 0.8286\n",
            "Epoch 13/50\n",
            "96/96 [==============================] - 1s 7ms/step - loss: 0.3171 - auc: 0.8207 - val_loss: 0.3124 - val_auc: 0.8288\n",
            "Epoch 14/50\n",
            "96/96 [==============================] - 1s 7ms/step - loss: 0.3160 - auc: 0.8227 - val_loss: 0.3114 - val_auc: 0.8298\n",
            "Epoch 15/50\n",
            "96/96 [==============================] - 1s 7ms/step - loss: 0.3159 - auc: 0.8227 - val_loss: 0.3103 - val_auc: 0.8313\n",
            "Epoch 16/50\n",
            "96/96 [==============================] - 1s 7ms/step - loss: 0.3154 - auc: 0.8237 - val_loss: 0.3105 - val_auc: 0.8313\n",
            "Epoch 17/50\n",
            "96/96 [==============================] - 1s 8ms/step - loss: 0.3149 - auc: 0.8242 - val_loss: 0.3097 - val_auc: 0.8319\n",
            "Epoch 18/50\n",
            "96/96 [==============================] - 1s 9ms/step - loss: 0.3141 - auc: 0.8254 - val_loss: 0.3107 - val_auc: 0.8321\n",
            "Epoch 19/50\n",
            "96/96 [==============================] - 1s 8ms/step - loss: 0.3141 - auc: 0.8255 - val_loss: 0.3098 - val_auc: 0.8321\n",
            "Epoch 20/50\n",
            "96/96 [==============================] - 1s 7ms/step - loss: 0.3133 - auc: 0.8267 - val_loss: 0.3100 - val_auc: 0.8323\n",
            "Epoch 21/50\n",
            "96/96 [==============================] - 1s 7ms/step - loss: 0.3132 - auc: 0.8268 - val_loss: 0.3096 - val_auc: 0.8326\n",
            "Epoch 22/50\n",
            "96/96 [==============================] - 1s 7ms/step - loss: 0.3127 - auc: 0.8276 - val_loss: 0.3092 - val_auc: 0.8325\n",
            "Epoch 23/50\n",
            "96/96 [==============================] - 1s 7ms/step - loss: 0.3121 - auc: 0.8286 - val_loss: 0.3091 - val_auc: 0.8332\n",
            "Epoch 24/50\n",
            "96/96 [==============================] - 1s 7ms/step - loss: 0.3122 - auc: 0.8283 - val_loss: 0.3087 - val_auc: 0.8334\n",
            "Epoch 25/50\n",
            "96/96 [==============================] - 1s 7ms/step - loss: 0.3112 - auc: 0.8297 - val_loss: 0.3091 - val_auc: 0.8328\n",
            "Epoch 26/50\n",
            "96/96 [==============================] - 1s 7ms/step - loss: 0.3112 - auc: 0.8299 - val_loss: 0.3091 - val_auc: 0.8330\n",
            "Epoch 27/50\n",
            "96/96 [==============================] - 1s 7ms/step - loss: 0.3112 - auc: 0.8297 - val_loss: 0.3088 - val_auc: 0.8333\n",
            "Epoch 28/50\n",
            "96/96 [==============================] - 1s 7ms/step - loss: 0.3107 - auc: 0.8304 - val_loss: 0.3088 - val_auc: 0.8337\n",
            "Epoch 29/50\n",
            "96/96 [==============================] - 1s 7ms/step - loss: 0.3109 - auc: 0.8301 - val_loss: 0.3084 - val_auc: 0.8340\n",
            "Epoch 30/50\n",
            "96/96 [==============================] - 1s 7ms/step - loss: 0.3104 - auc: 0.8307 - val_loss: 0.3084 - val_auc: 0.8337\n",
            "Epoch 31/50\n",
            "96/96 [==============================] - 1s 7ms/step - loss: 0.3106 - auc: 0.8305 - val_loss: 0.3084 - val_auc: 0.8336\n",
            "Epoch 32/50\n",
            "96/96 [==============================] - 1s 7ms/step - loss: 0.3098 - auc: 0.8318 - val_loss: 0.3083 - val_auc: 0.8337\n",
            "Epoch 33/50\n",
            "96/96 [==============================] - 1s 7ms/step - loss: 0.3097 - auc: 0.8319 - val_loss: 0.3083 - val_auc: 0.8339\n",
            "Epoch 34/50\n",
            "96/96 [==============================] - 1s 7ms/step - loss: 0.3095 - auc: 0.8321 - val_loss: 0.3078 - val_auc: 0.8343\n",
            "Epoch 35/50\n",
            "96/96 [==============================] - 1s 8ms/step - loss: 0.3091 - auc: 0.8326 - val_loss: 0.3082 - val_auc: 0.8340\n",
            "Epoch 36/50\n",
            "96/96 [==============================] - 1s 8ms/step - loss: 0.3092 - auc: 0.8326 - val_loss: 0.3082 - val_auc: 0.8343\n",
            "Epoch 37/50\n",
            "96/96 [==============================] - 1s 8ms/step - loss: 0.3086 - auc: 0.8335 - val_loss: 0.3084 - val_auc: 0.8343\n",
            "Epoch 38/50\n",
            "96/96 [==============================] - 1s 6ms/step - loss: 0.3085 - auc: 0.8334 - val_loss: 0.3081 - val_auc: 0.8342\n",
            "Epoch 39/50\n",
            "96/96 [==============================] - 1s 7ms/step - loss: 0.3086 - auc: 0.8333 - val_loss: 0.3078 - val_auc: 0.8345\n",
            "Epoch 40/50\n",
            "96/96 [==============================] - 1s 7ms/step - loss: 0.3085 - auc: 0.8336 - val_loss: 0.3082 - val_auc: 0.8347\n",
            "Epoch 41/50\n",
            "96/96 [==============================] - 1s 7ms/step - loss: 0.3083 - auc: 0.8338 - val_loss: 0.3079 - val_auc: 0.8345\n",
            "Epoch 42/50\n",
            "96/96 [==============================] - 1s 7ms/step - loss: 0.3076 - auc: 0.8347 - val_loss: 0.3079 - val_auc: 0.8345\n",
            "Epoch 43/50\n",
            "96/96 [==============================] - 1s 7ms/step - loss: 0.3077 - auc: 0.8347 - val_loss: 0.3080 - val_auc: 0.8343\n",
            "Epoch 44/50\n",
            "96/96 [==============================] - 1s 7ms/step - loss: 0.3072 - auc: 0.8354 - val_loss: 0.3080 - val_auc: 0.8342\n",
            "Epoch 45/50\n",
            "96/96 [==============================] - 1s 7ms/step - loss: 0.3074 - auc: 0.8350 - val_loss: 0.3079 - val_auc: 0.8341\n",
            "Epoch 46/50\n",
            "96/96 [==============================] - 1s 7ms/step - loss: 0.3071 - auc: 0.8355 - val_loss: 0.3079 - val_auc: 0.8344\n",
            "Epoch 47/50\n",
            "96/96 [==============================] - 1s 7ms/step - loss: 0.3072 - auc: 0.8353 - val_loss: 0.3078 - val_auc: 0.8344\n",
            "Epoch 48/50\n",
            "96/96 [==============================] - 1s 7ms/step - loss: 0.3070 - auc: 0.8357 - val_loss: 0.3080 - val_auc: 0.8342\n",
            "Epoch 49/50\n",
            "96/96 [==============================] - 1s 7ms/step - loss: 0.3068 - auc: 0.8359 - val_loss: 0.3081 - val_auc: 0.8346\n",
            "Epoch 50/50\n",
            "96/96 [==============================] - 1s 7ms/step - loss: 0.3066 - auc: 0.8363 - val_loss: 0.3079 - val_auc: 0.8343\n",
            "\n",
            "Local Test:\n",
            "96/96 [==============================] - 1s 4ms/step - loss: 0.3058 - auc: 0.8325\n",
            "\n",
            "\n",
            "Loss/AUC Graph:\n"
          ]
        },
        {
          "output_type": "display_data",
          "data": {
            "text/plain": [
              "<Figure size 1000x500 with 2 Axes>"
            ],
            "image/png": "[encoded data removed]"
          },
          "metadata": {}
        }
      ]
    },
    {
      "cell_type": "markdown",
      "source": [
        "# Output Prediciton"
      ],
      "metadata": {
        "id": "TnPdcZ6xN06W"
      }
    },
    {
      "cell_type": "markdown",
      "source": [
        "## Refit on All Data"
      ],
      "metadata": {
        "id": "ji3UJhU9SaL2"
      }
    },
    {
      "cell_type": "code",
      "source": [
        "model, history = Refit_Model(epochs)"
      ],
      "metadata": {
        "id": "FOYPMoVqSWdq",
        "colab": {
          "base_uri": "https://localhost:8080/"
        },
        "outputId": "b08f1e5f-43ca-4153-ba1e-399f695d5c9b"
      },
      "execution_count": null,
      "outputs": [
        {
          "output_type": "stream",
          "name": "stderr",
          "text": [
            "WARNING:tensorflow:Layer lstm will not use cuDNN kernels since it doesn't meet the criteria. It will use a generic GPU kernel as fallback when running on GPU.\n",
            "WARNING:tensorflow:Layer lstm_1 will not use cuDNN kernels since it doesn't meet the criteria. It will use a generic GPU kernel as fallback when running on GPU.\n",
            "WARNING:tensorflow:Layer lstm_2 will not use cuDNN kernels since it doesn't meet the criteria. It will use a generic GPU kernel as fallback when running on GPU.\n"
          ]
        },
        {
          "output_type": "stream",
          "name": "stdout",
          "text": [
            "Model: \"model\"\n",
            "__________________________________________________________________________________________________\n",
            " Layer (type)                   Output Shape         Param #     Connected to                     \n",
            "==================================================================================================\n",
            " input_1 (InputLayer)           [(None, 1036)]       0           []                               \n",
            "                                                                                                  \n",
            " reshape (Reshape)              (None, 37, 28)       0           ['input_1[0][0]']                \n",
            "                                                                                                  \n",
            " lstm (LSTM)                    (None, 37, 32)       7808        ['reshape[0][0]']                \n",
            "                                                                                                  \n",
            " lstm_1 (LSTM)                  (None, 37, 32)       7808        ['reshape[0][0]']                \n",
            "                                                                                                  \n",
            " concatenate (Concatenate)      (None, 37, 64)       0           ['lstm[0][0]',                   \n",
            "                                                                  'lstm_1[0][0]']                 \n",
            "                                                                                                  \n",
            " lstm_2 (LSTM)                  (None, 28)           10416       ['concatenate[0][0]']            \n",
            "                                                                                                  \n",
            "==================================================================================================\n",
            "Total params: 26,032\n",
            "Trainable params: 26,032\n",
            "Non-trainable params: 0\n",
            "__________________________________________________________________________________________________\n",
            "None\n",
            "Epoch 1/50\n",
            "119/119 [==============================] - 31s 202ms/step - loss: 0.3790 - auc: 0.6991\n",
            "Epoch 2/50\n",
            "119/119 [==============================] - 23s 194ms/step - loss: 0.3376 - auc: 0.7853\n",
            "Epoch 3/50\n",
            "119/119 [==============================] - 23s 194ms/step - loss: 0.3290 - auc: 0.7991\n",
            "Epoch 4/50\n",
            "119/119 [==============================] - 23s 191ms/step - loss: 0.3234 - auc: 0.8090\n",
            "Epoch 5/50\n",
            "119/119 [==============================] - 24s 197ms/step - loss: 0.3206 - auc: 0.8142\n",
            "Epoch 6/50\n",
            "119/119 [==============================] - 23s 193ms/step - loss: 0.3182 - auc: 0.8182\n",
            "Epoch 7/50\n",
            "119/119 [==============================] - 23s 197ms/step - loss: 0.3164 - auc: 0.8214\n",
            "Epoch 8/50\n",
            "119/119 [==============================] - 23s 196ms/step - loss: 0.3148 - auc: 0.8238\n",
            "Epoch 9/50\n",
            "119/119 [==============================] - 23s 192ms/step - loss: 0.3137 - auc: 0.8256\n",
            "Epoch 10/50\n",
            "119/119 [==============================] - 23s 193ms/step - loss: 0.3127 - auc: 0.8270\n",
            "Epoch 11/50\n",
            "119/119 [==============================] - 23s 194ms/step - loss: 0.3121 - auc: 0.8280\n",
            "Epoch 12/50\n",
            "119/119 [==============================] - 22s 184ms/step - loss: 0.3117 - auc: 0.8286\n",
            "Epoch 13/50\n",
            "119/119 [==============================] - 23s 195ms/step - loss: 0.3110 - auc: 0.8296\n",
            "Epoch 14/50\n",
            "119/119 [==============================] - 23s 191ms/step - loss: 0.3108 - auc: 0.8300\n",
            "Epoch 15/50\n",
            "119/119 [==============================] - 23s 192ms/step - loss: 0.3103 - auc: 0.8307\n",
            "Epoch 16/50\n",
            "119/119 [==============================] - 25s 207ms/step - loss: 0.3102 - auc: 0.8307\n",
            "Epoch 17/50\n",
            "119/119 [==============================] - 23s 193ms/step - loss: 0.3100 - auc: 0.8311\n",
            "Epoch 18/50\n",
            "119/119 [==============================] - 23s 193ms/step - loss: 0.3097 - auc: 0.8314\n",
            "Epoch 19/50\n",
            "119/119 [==============================] - 21s 181ms/step - loss: 0.3097 - auc: 0.8314\n",
            "Epoch 20/50\n",
            "119/119 [==============================] - 23s 191ms/step - loss: 0.3093 - auc: 0.8319\n",
            "Epoch 21/50\n",
            "119/119 [==============================] - 23s 191ms/step - loss: 0.3094 - auc: 0.8316\n",
            "Epoch 22/50\n",
            "119/119 [==============================] - 24s 200ms/step - loss: 0.3093 - auc: 0.8319\n",
            "Epoch 23/50\n",
            "119/119 [==============================] - 23s 194ms/step - loss: 0.3091 - auc: 0.8321\n",
            "Epoch 24/50\n",
            "119/119 [==============================] - 23s 195ms/step - loss: 0.3089 - auc: 0.8325\n",
            "Epoch 25/50\n",
            "119/119 [==============================] - 22s 185ms/step - loss: 0.3088 - auc: 0.8325\n",
            "Epoch 26/50\n",
            "119/119 [==============================] - 24s 198ms/step - loss: 0.3086 - auc: 0.8328\n",
            "Epoch 27/50\n",
            "119/119 [==============================] - 23s 194ms/step - loss: 0.3087 - auc: 0.8326\n",
            "Epoch 28/50\n",
            "119/119 [==============================] - 24s 199ms/step - loss: 0.3084 - auc: 0.8332\n",
            "Epoch 29/50\n",
            "119/119 [==============================] - 23s 194ms/step - loss: 0.3084 - auc: 0.8330\n",
            "Epoch 30/50\n",
            "119/119 [==============================] - 24s 199ms/step - loss: 0.3083 - auc: 0.8333\n",
            "Epoch 31/50\n",
            "119/119 [==============================] - 24s 200ms/step - loss: 0.3084 - auc: 0.8330\n",
            "Epoch 32/50\n",
            "119/119 [==============================] - 23s 197ms/step - loss: 0.3081 - auc: 0.8335\n",
            "Epoch 33/50\n",
            "119/119 [==============================] - 22s 187ms/step - loss: 0.3079 - auc: 0.8336\n",
            "Epoch 34/50\n",
            "119/119 [==============================] - 22s 185ms/step - loss: 0.3079 - auc: 0.8336\n",
            "Epoch 35/50\n",
            "119/119 [==============================] - 23s 194ms/step - loss: 0.3079 - auc: 0.8336\n",
            "Epoch 36/50\n",
            "119/119 [==============================] - 24s 198ms/step - loss: 0.3078 - auc: 0.8337\n",
            "Epoch 37/50\n",
            "119/119 [==============================] - 23s 197ms/step - loss: 0.3080 - auc: 0.8336\n",
            "Epoch 38/50\n",
            "119/119 [==============================] - 23s 194ms/step - loss: 0.3078 - auc: 0.8338\n",
            "Epoch 39/50\n",
            "119/119 [==============================] - 23s 194ms/step - loss: 0.3077 - auc: 0.8339\n",
            "Epoch 40/50\n",
            "119/119 [==============================] - 22s 186ms/step - loss: 0.3076 - auc: 0.8340\n",
            "Epoch 41/50\n",
            "119/119 [==============================] - 23s 195ms/step - loss: 0.3077 - auc: 0.8339\n",
            "Epoch 42/50\n",
            "119/119 [==============================] - 23s 193ms/step - loss: 0.3074 - auc: 0.8343\n",
            "Epoch 43/50\n",
            "119/119 [==============================] - 23s 193ms/step - loss: 0.3074 - auc: 0.8343\n",
            "Epoch 44/50\n",
            "119/119 [==============================] - 23s 195ms/step - loss: 0.3075 - auc: 0.8342\n",
            "Epoch 45/50\n",
            "119/119 [==============================] - 23s 194ms/step - loss: 0.3074 - auc: 0.8343\n",
            "Epoch 46/50\n",
            "119/119 [==============================] - 21s 180ms/step - loss: 0.3074 - auc: 0.8344\n",
            "Epoch 47/50\n",
            "119/119 [==============================] - 23s 190ms/step - loss: 0.3072 - auc: 0.8345\n",
            "Epoch 48/50\n",
            "119/119 [==============================] - 23s 192ms/step - loss: 0.3072 - auc: 0.8346\n",
            "Epoch 49/50\n",
            "119/119 [==============================] - 23s 196ms/step - loss: 0.3070 - auc: 0.8348\n",
            "Epoch 50/50\n",
            "119/119 [==============================] - 24s 198ms/step - loss: 0.3070 - auc: 0.8349\n"
          ]
        }
      ]
    },
    {
      "cell_type": "markdown",
      "source": [
        "## Predict"
      ],
      "metadata": {
        "id": "tAvxeiFgSXL-"
      }
    },
    {
      "cell_type": "code",
      "source": [
        "output = model.predict(test_source.iloc[:, 1:].to_numpy())\n",
        "\n",
        "col = [f\"time_slot_{i}\" for i in range(28)]\n",
        "df = pd.DataFrame(output, columns=col)\n",
        "df = pd.concat([test_source.iloc[:, 0], df], axis=1)\n",
        "\n",
        "df.to_csv(\"Dual_LSTM_(32, sigmoid).csv\", index=False)"
      ],
      "metadata": {
        "id": "sT8vzx4kN4dU",
        "colab": {
          "base_uri": "https://localhost:8080/"
        },
        "outputId": "4a76294f-10fc-415d-facc-7d2e86239687"
      },
      "execution_count": null,
      "outputs": [
        {
          "output_type": "stream",
          "name": "stdout",
          "text": [
            "238/238 [==============================] - 4s 18ms/step\n"
          ]
        }
      ]
    }
  ]
}